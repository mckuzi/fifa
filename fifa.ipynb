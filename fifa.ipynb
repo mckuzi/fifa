{
 "cells": [
  {
   "cell_type": "markdown",
   "id": "8a89f67c-4f11-47cb-ac3f-36a777414104",
   "metadata": {},
   "source": [
    "\n",
    "Perform an appropriate hypothesis test to determine the p-value, and hence result, of whether to reject or fail to reject the null hypothesis that the mean number of goals scored in women's international soccer matches is the same as men's. Use a 10% significance level.\n",
    "\n",
    "For this analysis, you'll use Official FIFA World Cup matches since 2002-01-01, and you'll also assume that each match is fully independent, i.e., team form is ignored.\n",
    "\n",
    "The p-value and the result of the test must be stored in a dictionary called result_dict in the form:\n",
    "\n",
    "result_dict = {\"p_val\": p_val, \"result\": result}\n",
    "\n",
    "where p_val is the p-value and result is either the string \"fail to reject\" or \"reject\", depending on the result of the test."
   ]
  },
  {
   "cell_type": "markdown",
   "id": "87e7e858-453c-4bcc-a017-8c055e46e26f",
   "metadata": {},
   "source": [
    "You're working as a sports journalist at a major online sports media company, specializing in soccer analysis and reporting. You've been watching both men's and women's international soccer matches for a number of years, and your gut instinct tells you that more goals are scored in women's international football matches than men's. This would make an interesting investigative article that your subscribers are bound to love, but you'll need to perform a valid statistical hypothesis test to be sure!\n",
    "\n",
    "While scoping this project, you acknowledge that the sport has changed a lot over the years, and performances likely vary a lot depending on the tournament, so you decide to limit the data used in the analysis to only official FIFA World Cup matches (not including qualifiers) since 2002-01-01.\n",
    "\n",
    "You create two datasets containing the results of every official men's and women's international football match since the 19th century, which you scraped from a reliable online source. This data is stored in two CSV files: women_results.csv and men_results.csv.\n",
    "\n",
    "The question you are trying to determine the answer to is:\n",
    "\n",
    "Are more goals scored in women's international soccer matches than men's?\n",
    "\n",
    "You assume a 10% significance level, and use the following null and alternative hypotheses:\n",
    "\n",
    "H0 : The mean number of goals scored in women's international soccer matches is the same as men's.\n",
    "\n",
    "HA : The mean number of goals scored in women's international soccer matches is greater than men's."
   ]
  },
  {
   "cell_type": "code",
   "execution_count": 14,
   "id": "4bc5f7a8-0fa1-40d8-994f-3f2c0aa41165",
   "metadata": {},
   "outputs": [
    {
     "data": {
      "text/plain": [
       "<Axes: xlabel='score', ylabel='Count'>"
      ]
     },
     "execution_count": 14,
     "metadata": {},
     "output_type": "execute_result"
    },
    {
     "data": {
      "image/png": "[encoded data removed]",
      "text/plain": [
       "<Figure size 640x480 with 1 Axes>"
      ]
     },
     "metadata": {},
     "output_type": "display_data"
    }
   ],
   "source": [
    "import pandas as pd\n",
    "pd.options.mode.chained_assignment = None  # default='warn'\n",
    "import numpy as np\n",
    "import seaborn as sns\n",
    "import pingouin\n",
    "\n",
    "women = pd.read_csv('women_results.csv', parse_dates=['date'])\n",
    "men = pd.read_csv('men_results.csv', parse_dates=['date'])\n",
    "\n",
    "\n",
    "#  --------- KOBITY ---------\n",
    "women2 = women.query('date > \"2002-01-01\" and tournament == \"FIFA World Cup\"')\n",
    "women2['score'] = women2['home_score'] + women2['away_score']\n",
    "\n",
    "\n",
    "#  -------- FACETY --------\n",
    "men2 = men.query('date > \"2002-01-01\" and tournament == \"FIFA World Cup\"')\n",
    "men2['score'] = men2['home_score'] + men2['away_score']\n",
    "\n",
    "\n",
    "\n",
    "# ------- Czy rozkład normalny? -------\n",
    "sns.histplot(data=men2, x='score', bins=9)\n"
   ]
  },
  {
   "cell_type": "code",
   "execution_count": 15,
   "id": "3252c055-5704-44ea-90ff-a45a4397d8cd",
   "metadata": {},
   "outputs": [
    {
     "name": "stdout",
     "output_type": "stream",
     "text": [
      "{'p_val': 0.005106609825443641, 'result': 'reject'}\n"
     ]
    }
   ],
   "source": [
    "# --------- Wilcoxon-Mann-Whitney test ---------\n",
    "k = pd.DataFrame(women2['score'])\n",
    "m = pd.DataFrame(men2['score'])\n",
    "k.insert(0, \"woman\", 'yez')\n",
    "m.insert(0, \"woman\", 'no')\n",
    "\n",
    "\n",
    "Concatenated_df = pd.concat([k, m], ignore_index=True)\n",
    "h = Concatenated_df.pivot(columns='woman', values='score')\n",
    "\n",
    "\n",
    "wmw_test = pingouin.mwu(x=h['yez'],\n",
    "                        y=h['no'],\n",
    "                        alternative='greater')\n",
    "\n",
    "\n",
    "\n",
    "#  ------- final -------\n",
    "p_val = wmw_test.iloc[0,2]\n",
    "alpha = 0.1\n",
    "\n",
    "if p_val > alpha:\n",
    "    result = \"fail to reject\"\n",
    "else:\n",
    "    result = \"reject\"\n",
    "\n",
    "result_dict = {\"p_val\": p_val, \"result\": result}\n",
    "\n",
    "print(result_dict)"
   ]
  },
  {
   "cell_type": "code",
   "execution_count": null,
   "id": "bebe349d-deb5-4b2f-b6cd-d03ddf5be864",
   "metadata": {},
   "outputs": [],
   "source": []
  }
 ],
 "metadata": {
  "kernelspec": {
   "display_name": "Python 3 (ipykernel)",
   "language": "python",
   "name": "python3"
  },
  "language_info": {
   "codemirror_mode": {
    "name": "ipython",
    "version": 3
   },
   "file_extension": ".py",
   "mimetype": "text/x-python",
   "name": "python",
   "nbconvert_exporter": "python",
   "pygments_lexer": "ipython3",
   "version": "3.12.7"
  }
 },
 "nbformat": 4,
 "nbformat_minor": 5
}
